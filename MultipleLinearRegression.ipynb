{
  "nbformat": 4,
  "nbformat_minor": 0,
  "metadata": {
    "colab": {
      "provenance": []
    },
    "kernelspec": {
      "name": "python3",
      "display_name": "Python 3"
    },
    "language_info": {
      "name": "python"
    }
  },
  "cells": [
    {
      "cell_type": "markdown",
      "source": [
        "# **Multiple Linear Regression**\n",
        "\n",
        "**Objectives**: After completing this lab you will be able to:\n",
        "*   Use scikit-learn to implement Multiple Linear Regression\n",
        "*   Create a model, train it, test it and use the model"
      ],
      "metadata": {
        "id": "DJ1cGc7qhGS7"
      }
    },
    {
      "cell_type": "markdown",
      "source": [
        "**Problem:** Predict carbon dioxide emissions for light-duty vehicles for sale in Canada."
      ],
      "metadata": {
        "id": "6H4XIcEXkHEV"
      }
    },
    {
      "cell_type": "markdown",
      "source": [
        "**Step 1: Importing Needed packages**"
      ],
      "metadata": {
        "id": "QnRQxUt6h6TP"
      }
    },
    {
      "cell_type": "code",
      "execution_count": null,
      "metadata": {
        "id": "RiJm6LyOhFki"
      },
      "outputs": [],
      "source": [
        "import matplotlib.pyplot as plt\n",
        "import pandas as pd\n",
        "import pylab as pl\n",
        "import numpy as np\n",
        "%matplotlib inline"
      ]
    },
    {
      "cell_type": "markdown",
      "source": [
        "**Step 2: Data Collection**\n",
        "\n",
        "To download the data, we will use !wget to download it from IBM Object Storage."
      ],
      "metadata": {
        "id": "JyU0D1yiiD-2"
      }
    },
    {
      "cell_type": "code",
      "source": [
        "#!wget -O FuelConsumption.csv https://cf-courses-data.s3.us.cloud-object-storage.appdomain.cloud/IBMDeveloperSkillsNetwork-ML0101EN-SkillsNetwork/labs/Module%202/data/FuelConsumptionCo2.csv\n",
        "\n",
        "!wget -O FuelConsumption.csv https://open.canada.ca/data/dataset/98f1a129-f628-4ce4-b24d-6f16bf24dd64/resource/2309538b-53d1-4635-a88e-e237bfcef7a2/download/my2005-2014-fuel-consumption-ratings-5-cycle.csv"
      ],
      "metadata": {
        "id": "HxsyhDygiSjj"
      },
      "execution_count": null,
      "outputs": []
    },
    {
      "cell_type": "markdown",
      "source": [
        "**Step 3: Load dataset**"
      ],
      "metadata": {
        "id": "4oBY-f5RBPgq"
      }
    },
    {
      "cell_type": "code",
      "source": [
        "df = pd.read_csv(\"FuelConsumption.csv\")\n",
        "\n",
        "# take a look at the dataset\n",
        "df.head()"
      ],
      "metadata": {
        "id": "BFRPA_burGKK"
      },
      "execution_count": null,
      "outputs": []
    },
    {
      "cell_type": "markdown",
      "source": [
        "**Step 4: Understand data**\n",
        "\n",
        "The dataset contains model-specific fuel consumption ratings and estimated carbon dioxide emissions for new light-duty vehicles for retail sale in Canada.\n",
        "\n",
        "MODEL YEAR e.g. 2014\n",
        "\n",
        "MAKE e.g. Acura\n",
        "\n",
        "MODEL e.g. ILX\n",
        "\n",
        "VEHICLE CLASS e.g. SUV\n",
        "\n",
        "ENGINE SIZE e.g. 4.7\n",
        "\n",
        "CYLINDERS e.g 6\n",
        "\n",
        "TRANSMISSION e.g. A6\n",
        "\n",
        "FUELTYPE e.g. z\n",
        "\n",
        "FUEL CONSUMPTION in CITY(L/100 km) e.g. 9.9\n",
        "\n",
        "FUEL CONSUMPTION in HWY (L/100 km) e.g. 8.9\n",
        "\n",
        "FUEL CONSUMPTION COMB (L/100 km) e.g. 9.2\n",
        "\n",
        "CO2 EMISSIONS (g/km) e.g. 182 --> low --> 0"
      ],
      "metadata": {
        "id": "ltsDB5CR-OND"
      }
    },
    {
      "cell_type": "markdown",
      "source": [
        "**Step 5: Data preprocessing**\n",
        "\n",
        "Let's rename columns for an ease of use. Change only useful column for this problem and leave others."
      ],
      "metadata": {
        "id": "DikXis3QA1yS"
      }
    },
    {
      "cell_type": "code",
      "source": [
        "df = df.rename(columns={'Engine size (L)': 'ENGINESIZE', 'City (L/100 km)': 'FUELCONSUMPTION_CITY', 'Highway (L/100 km)': 'FUELCONSUMPTION_HWY', 'Combined (L/100 km)': 'COMBINED','CO2 emissions (g/km)': 'CO2EMISSIONS'})\n",
        "df.head()"
      ],
      "metadata": {
        "id": "LCH2vBTmBt1-"
      },
      "execution_count": null,
      "outputs": []
    },
    {
      "cell_type": "code",
      "source": [
        "# Let's select some features that we want to use for regression.\n",
        "\n",
        "cdf = df[['ENGINESIZE','Cylinders','FUELCONSUMPTION_CITY','FUELCONSUMPTION_HWY','COMBINED','CO2EMISSIONS']]\n",
        "cdf.head(9)"
      ],
      "metadata": {
        "id": "2XuPD9P9_Da7"
      },
      "execution_count": null,
      "outputs": []
    },
    {
      "cell_type": "markdown",
      "source": [
        "**Step 6: Exploratory data analysis (EDA)**\n",
        "\n",
        "Let's plot Emission values with respect to Engine size."
      ],
      "metadata": {
        "id": "1HMsC6zID5c-"
      }
    },
    {
      "cell_type": "code",
      "source": [
        "plt.scatter(cdf.ENGINESIZE, cdf.CO2EMISSIONS,  color='blue')\n",
        "plt.xlabel(\"Engine size\")\n",
        "plt.ylabel(\"Emission\")\n",
        "plt.show()"
      ],
      "metadata": {
        "id": "UbxCVQAW99FG"
      },
      "execution_count": null,
      "outputs": []
    },
    {
      "cell_type": "markdown",
      "source": [
        "**Step 7: Data split (Train/Test Split)**\n",
        "\n",
        "Let's split data into training and testing sets. Around 80% of the entire dataset will be used for training and 20% for testing. We create a mask to select random rows using the **np.random.rand()** function:"
      ],
      "metadata": {
        "id": "wjgzuACFEWG_"
      }
    },
    {
      "cell_type": "code",
      "source": [
        "msk = np.random.rand(len(df)) < 0.8\n",
        "train = cdf[msk]\n",
        "test = cdf[~msk]"
      ],
      "metadata": {
        "id": "rPPi3vZKEhk3"
      },
      "execution_count": null,
      "outputs": []
    },
    {
      "cell_type": "markdown",
      "source": [
        "This is our training data"
      ],
      "metadata": {
        "id": "gy_-WBY7E_Iw"
      }
    },
    {
      "cell_type": "code",
      "source": [
        "train.head()"
      ],
      "metadata": {
        "id": "JFe9O-keFJU4"
      },
      "execution_count": null,
      "outputs": []
    },
    {
      "cell_type": "code",
      "source": [
        "plt.scatter(train.ENGINESIZE, train.CO2EMISSIONS,  color='blue')\n",
        "plt.xlabel(\"Engine size\")\n",
        "plt.ylabel(\"Emission\")\n",
        "plt.show()"
      ],
      "metadata": {
        "id": "PxSogDRKFCUG"
      },
      "execution_count": null,
      "outputs": []
    },
    {
      "cell_type": "markdown",
      "source": [
        "**Step 8.a: Model development (Training the model)**\n",
        "\n",
        "Since, there are multiple variables that impact the CO2EMISSIONS, we would use multiple linear regression. We are predicting CO2EMISSIONS using the features COMBINED, ENGINESIZE and Cylinders of cars. Let's train our model on the training set."
      ],
      "metadata": {
        "id": "bD5adRoBFacd"
      }
    },
    {
      "cell_type": "code",
      "source": [
        "from sklearn import linear_model\n",
        "from sklearn.metrics import r2_score\n",
        "\n",
        "regr = linear_model.LinearRegression()\n",
        "x = np.asanyarray(train[['ENGINESIZE','Cylinders','COMBINED']])\n",
        "y = np.asanyarray(train[['CO2EMISSIONS']])\n",
        "regr.fit (x, y)\n",
        "# The coefficients\n",
        "print ('Coefficients: ', regr.coef_)\n",
        "\n",
        "# Predict the target values on the training set\n",
        "y_train_pred = regr.predict(x)\n",
        "\n",
        "# Calculate R-squared on the training set\n",
        "r2_training = r2_score(y, y_train_pred)\n",
        "\n",
        "# Print the R-squared value\n",
        "print(\"Training R-squared:\", r2_training)"
      ],
      "metadata": {
        "id": "Xn84c3oqF_B6"
      },
      "execution_count": null,
      "outputs": []
    },
    {
      "cell_type": "markdown",
      "source": [
        "**Step 8.b: Model development (Testing the model)**\n",
        "\n",
        "Let's test our model on the testing set.\n",
        "Here, the variance score best possible score is 1.0, the lower values are worse."
      ],
      "metadata": {
        "id": "nuJPsJkiH5i0"
      }
    },
    {
      "cell_type": "code",
      "source": [
        "y_test_pred = regr.predict(test[['ENGINESIZE','Cylinders','COMBINED']])\n",
        "x = np.asanyarray(test[['ENGINESIZE','Cylinders','COMBINED']])\n",
        "y = np.asanyarray(test[['CO2EMISSIONS']])\n",
        "print(\"Residual sum of squares: %.2f\"\n",
        "      % np.mean((y_test_pred - y) ** 2))\n",
        "\n",
        "# Explained variance score: 1 is perfect prediction\n",
        "print('Testing R-squared: %.2f' % regr.score(x, y))\n",
        "# you can also use r2_testing = r2_score(y, y_test_pred)"
      ],
      "metadata": {
        "id": "yRfMecsSIJak"
      },
      "execution_count": null,
      "outputs": []
    },
    {
      "cell_type": "markdown",
      "source": [],
      "metadata": {
        "id": "Voi98Gbdh__I"
      }
    }
  ]
}